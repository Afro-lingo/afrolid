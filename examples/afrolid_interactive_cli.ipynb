{
  "cells": [
    {
      "cell_type": "markdown",
      "metadata": {
        "id": "HZPN0IdFGNiE"
      },
      "source": [
        "<img src=\"https://github.com/UBC-NLP/afrolid/raw/main/images/afrolid_logo.jpg\">\n",
        "\n",
        "AfroLID, a neural LID toolkit for 517 African languages and varieties. AfroLID exploits a multi-domain web dataset manually curated from across 14 language families utilizing five orthographic systems. AfroLID is described in this paper: \n",
        "[**AfroLID: A Neural Language Identification Tool for African Languages**](https://arxiv.org/abs/2210.11744).\n"
      ]
    },
    {
      "cell_type": "markdown",
      "metadata": {
        "id": "tJoHT81iGYzh"
      },
      "source": [
        "## (1) Install Afrolid"
      ]
    },
    {
      "cell_type": "code",
      "execution_count": 1,
      "metadata": {
        "colab": {
          "base_uri": "https://localhost:8080/"
        },
        "id": "KAztt3c2piuo",
        "outputId": "8540ac77-734f-4842-be1c-c95105d4d15e"
      },
      "outputs": [
        {
          "output_type": "stream",
          "name": "stdout",
          "text": [
            "\u001b[K     |████████████████████████████████| 125 kB 10.1 MB/s \n",
            "\u001b[K     |████████████████████████████████| 750.6 MB 18 kB/s \n",
            "\u001b[K     |████████████████████████████████| 1.2 MB 54.6 MB/s \n",
            "\u001b[K     |████████████████████████████████| 11.0 MB 96.4 MB/s \n",
            "\u001b[K     |████████████████████████████████| 76 kB 6.7 MB/s \n",
            "\u001b[K     |████████████████████████████████| 123 kB 66.9 MB/s \n",
            "\u001b[K     |████████████████████████████████| 241 kB 90.5 MB/s \n",
            "\u001b[K     |████████████████████████████████| 118 kB 69.7 MB/s \n",
            "\u001b[K     |████████████████████████████████| 112 kB 88.8 MB/s \n",
            "\u001b[K     |████████████████████████████████| 4.2 MB 59.7 MB/s \n",
            "\u001b[K     |████████████████████████████████| 3.7 MB 70.3 MB/s \n",
            "\u001b[K     |████████████████████████████████| 3.7 MB 73.5 MB/s \n",
            "\u001b[K     |████████████████████████████████| 2.9 MB 31.5 MB/s \n",
            "\u001b[?25h  Building wheel for afrolid (setup.py) ... \u001b[?25l\u001b[?25hdone\n",
            "  Building wheel for antlr4-python3-runtime (setup.py) ... \u001b[?25l\u001b[?25hdone\n",
            "\u001b[31mERROR: pip's dependency resolver does not currently take into account all the packages that are installed. This behaviour is the source of the following dependency conflicts.\n",
            "torchvision 0.13.1+cu113 requires torch==1.12.1, but you have torch 1.11.0 which is incompatible.\n",
            "torchtext 0.13.1 requires torch==1.12.1, but you have torch 1.11.0 which is incompatible.\u001b[0m\n"
          ]
        }
      ],
      "source": [
        "!pip install -U git+https://github.com/UBC-NLP/afrolid.git --q"
      ]
    },
    {
      "cell_type": "markdown",
      "source": [
        "## (2) Donwload the model"
      ],
      "metadata": {
        "id": "Btdu7zFZhS0G"
      }
    },
    {
      "cell_type": "code",
      "source": [
        "! wget https://demos.dlnlp.ai/afrolid/afrolid_model.tar.gz\n",
        "!tar -xf afrolid_model.tar.gz"
      ],
      "metadata": {
        "colab": {
          "base_uri": "https://localhost:8080/"
        },
        "id": "-wnLzodWhSib",
        "outputId": "fd26012e-3f46-401e-bcbe-7629ff92e4ef"
      },
      "execution_count": 2,
      "outputs": [
        {
          "output_type": "stream",
          "name": "stdout",
          "text": [
            "--2022-12-06 18:00:21--  https://demos.dlnlp.ai/afrolid/afrolid_model.tar.gz\n",
            "Resolving demos.dlnlp.ai (demos.dlnlp.ai)... 74.208.236.113, 2607:f1c0:100f:f000::264\n",
            "Connecting to demos.dlnlp.ai (demos.dlnlp.ai)|74.208.236.113|:443... connected.\n",
            "HTTP request sent, awaiting response... 200 OK\n",
            "Length: 2277022086 (2.1G) [application/gzip]\n",
            "Saving to: ‘afrolid_model.tar.gz’\n",
            "\n",
            "afrolid_model.tar.g 100%[===================>]   2.12G   105MB/s    in 21s     \n",
            "\n",
            "2022-12-06 18:00:42 (102 MB/s) - ‘afrolid_model.tar.gz’ saved [2277022086/2277022086]\n",
            "\n"
          ]
        }
      ]
    },
    {
      "cell_type": "code",
      "source": [],
      "metadata": {
        "id": "U1Lls1-_itup"
      },
      "execution_count": 2,
      "outputs": []
    },
    {
      "cell_type": "markdown",
      "metadata": {
        "id": "EWHjQ1vqGcX7"
      },
      "source": [
        "##AfroLID Interactive Command Line Interface (CLI)\n",
        "- Default setting:\n",
        "  - **-m** or **--model_path**: Rath of the AfroLID model directory, *Required*\n",
        "  - **-o** or **--max_outputs**: The maximum of the output tanslations (*default value is 3*)\n",
        "  - **-l** or **--logging_file**: the logging file path (*default value is None*)\n",
        "\n",
        "- **afrolid_cli** command asks you you to input your input text. Moreover, you can write q to exsit as shown in the following image.\n",
        "\n",
        "<img src='https://github.com/UBC-NLP/afrolid/raw/main/images/afrolid_cli.jpg'>"
      ]
    },
    {
      "cell_type": "markdown",
      "metadata": {
        "id": "3VtXR82mGqKW"
      },
      "source": [
        "### (1) Usage and Arguments"
      ]
    },
    {
      "cell_type": "code",
      "execution_count": 3,
      "metadata": {
        "colab": {
          "base_uri": "https://localhost:8080/"
        },
        "id": "nO8QVs9AFJHe",
        "outputId": "8ef3992c-8285-4dd8-c348-0ab72aa9bef0"
      },
      "outputs": [
        {
          "output_type": "stream",
          "name": "stdout",
          "text": [
            "usage: afrolid_cli\n",
            "       [-h]\n",
            "       -m\n",
            "       MODEL_PATH\n",
            "       [-o MAX_OUTPUTS]\n",
            "       [-l LOGGING_FILE]\n",
            "\n",
            "AfroLID\n",
            "Command\n",
            "Line\n",
            "Interface\n",
            "(CLI)\n",
            "\n",
            "optional arguments:\n",
            "  -h, --help\n",
            "    show this\n",
            "    help\n",
            "    message and\n",
            "    exit\n",
            "  -m MODEL_PATH, --model_path MODEL_PATH\n",
            "    path of the\n",
            "    AfroLID\n",
            "    model\n",
            "    directory\n",
            "  -o MAX_OUTPUTS, --max_outputs MAX_OUTPUTS\n",
            "    number of\n",
            "    hypotheses\n",
            "    to output,\n",
            "    default\n",
            "    vlaue is 3\n",
            "  -l LOGGING_FILE, --logging_file LOGGING_FILE\n",
            "    the logging\n",
            "    file path,\n",
            "    default\n",
            "    vlaue is\n",
            "    None\n"
          ]
        }
      ],
      "source": [
        "!afrolid_cli -h"
      ]
    },
    {
      "cell_type": "markdown",
      "metadata": {
        "id": "9-6rMOInKlGa"
      },
      "source": [
        "## (2) AfroLID Interactive"
      ]
    },
    {
      "cell_type": "code",
      "execution_count": 4,
      "metadata": {
        "colab": {
          "base_uri": "https://localhost:8080/"
        },
        "id": "eQd_Ut5UplPg",
        "outputId": "7cc942d6-4b47-498d-ec06-9209b7bf1382"
      },
      "outputs": [
        {
          "output_type": "stream",
          "name": "stdout",
          "text": [
            "2022-12-06 18:01:24 | INFO | afroli.afrolid_cli | AfroLID Command Line Interface\n",
            "2022-12-06 18:01:24 | INFO | afroli.afrolid_cli | Initalizing AfroLID's task and model.\n",
            "| [input] dictionary: 64001 types\n",
            "| [label] dictionary: 528 types\n",
            "Type your input text or (q) to STOP: ዮሃንስ ኣብ ኢድ እቲ ብርቱዕ መልኣኽ እንታይ ይርኢ ፧ 5 ዮሃንስ\n",
            "2022-12-06 18:01:41 | INFO | afroli.afrolid_cli | Input text: ዮሃንስ ኣብ ኢድ እቲ ብርቱዕ መልኣኽ እንታይ ይርኢ ፧ 5 ዮሃንስ\n",
            "Predicted languages:\n",
            "     |-- ISO: tir\tName: Tigrinya\tScript: Ethiopic\tScore: 100.0%\n",
            "Type your input text or (q) to STOP:  ከ ሀ እከ ፖ የኮሜዲያን ቶማስ እና ናቲ ኮሜዲ ድራማ እና 50\n",
            "2022-12-06 18:01:57 | INFO | afroli.afrolid_cli | Input text:  ከ ሀ እከ ፖ የኮሜዲያን ቶማስ እና ናቲ ኮሜዲ ድራማ እና 50\n",
            "Predicted languages:\n",
            "     |-- ISO: amh\tName: Amharic\tScript: Ethiopic\tScore: 49.74%\n",
            "     |-- ISO: tir\tName: Tigrinya\tScript: Ethiopic\tScore: 49.34%\n",
            "     |-- ISO: gof\tName: Goofa\tScript: Latin\tScore: 0.82%\n",
            "Type your input text or (q) to STOP: أوشا يبد ارايس ن ڒفقها ينا-ٱس إ عيسى : ما وار\n",
            "2022-12-06 18:02:09 | INFO | afroli.afrolid_cli | Input text: أوشا يبد ارايس ن ڒفقها ينا-ٱس إ عيسى : ما وار\n",
            "Predicted languages:\n",
            "     |-- ISO: rif\tName: Tarifit\tScript: Arabic\tScore: 100.0%\n",
            "Type your input text or (q) to STOP: Vamteta vakulu na vagogo va vandu vamkotili\n",
            "2022-12-06 18:02:18 | INFO | afroli.afrolid_cli | Input text: Vamteta vakulu na vagogo va vandu vamkotili\n",
            "Predicted languages:\n",
            "     |-- ISO: ngo\tName: Ngoni\tScript: Latin\tScore: 99.95%\n",
            "     |-- ISO: rwk\tName: Rwa\tScript: Latin\tScore: 0.01%\n",
            "     |-- ISO: asa\tName: Asu\tScript: Latin\tScore: 0.01%\n",
            "Type your input text or (q) to STOP: q\n"
          ]
        }
      ],
      "source": [
        "!afrolid_cli --model_path /content/afrolid_model"
      ]
    },
    {
      "cell_type": "code",
      "execution_count": null,
      "metadata": {
        "id": "C8hSclpRpq14"
      },
      "outputs": [],
      "source": []
    }
  ],
  "metadata": {
    "colab": {
      "provenance": []
    },
    "kernelspec": {
      "display_name": "Python 3",
      "name": "python3"
    },
    "language_info": {
      "name": "python"
    }
  },
  "nbformat": 4,
  "nbformat_minor": 0
}