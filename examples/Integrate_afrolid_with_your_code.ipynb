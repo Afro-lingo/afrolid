{
  "cells": [
    {
      "cell_type": "markdown",
      "metadata": {
        "id": "vXEG1umFh-aY"
      },
      "source": [
        "<img src=\"https://github.com/UBC-NLP/afrolid/raw/main/images/afrolid_logo.jpg\">\n",
        "\n",
        "AfroLID, a neural LID toolkit for 517 African languages and varieties. AfroLID exploits a multi-domain web dataset manually curated from across 14 language families utilizing five orthographic systems. AfroLID is described in this paper: \n",
        "[**AfroLID: A Neural Language Identification Tool for African Languages**](https://arxiv.org/abs/2210.11744).\n"
      ]
    },
    {
      "cell_type": "markdown",
      "metadata": {
        "id": "4reRbEghiBxt"
      },
      "source": [
        "## (1) Install Afrolid"
      ]
    },
    {
      "cell_type": "code",
      "execution_count": 1,
      "metadata": {
        "id": "GyUFV9b6FaJI",
        "colab": {
          "base_uri": "https://localhost:8080/"
        },
        "outputId": "ebcfb254-e829-4ccb-8d1d-8e946c69883e"
      },
      "outputs": [
        {
          "output_type": "stream",
          "name": "stdout",
          "text": [
            "\u001b[K     |████████████████████████████████| 125 kB 5.1 MB/s \n",
            "\u001b[K     |████████████████████████████████| 1.3 MB 17.2 MB/s \n",
            "\u001b[K     |████████████████████████████████| 11.0 MB 4.4 kB/s \n",
            "\u001b[K     |████████████████████████████████| 118 kB 7.9 MB/s \n",
            "\u001b[K     |████████████████████████████████| 123 kB 52.9 MB/s \n",
            "\u001b[K     |████████████████████████████████| 241 kB 45.9 MB/s \n",
            "\u001b[K     |████████████████████████████████| 112 kB 53.9 MB/s \n",
            "\u001b[?25h  Building wheel for afrolid (setup.py) ... \u001b[?25l\u001b[?25hdone\n",
            "  Building wheel for antlr4-python3-runtime (setup.py) ... \u001b[?25l\u001b[?25hdone\n"
          ]
        }
      ],
      "source": [
        "!pip install -U git+https://github.com/UBC-NLP/afrolid.git --q"
      ]
    },
    {
      "cell_type": "markdown",
      "source": [
        "## (2) Donwload the model"
      ],
      "metadata": {
        "id": "golxJtBRHSvG"
      }
    },
    {
      "cell_type": "code",
      "source": [
        "! wget https://demos.dlnlp.ai/afrolid/afrolid_model.tar.gz\n",
        "!tar -xf afrolid_model.tar.gz"
      ],
      "metadata": {
        "colab": {
          "base_uri": "https://localhost:8080/"
        },
        "id": "QJvlcwqvHSXp",
        "outputId": "ec9361ee-e6ab-411e-8321-d358f73393a9"
      },
      "execution_count": 2,
      "outputs": [
        {
          "output_type": "stream",
          "name": "stdout",
          "text": [
            "--2022-12-05 22:21:02--  https://demos.dlnlp.ai/afrolid/afrolid_model.tar.gz\n",
            "Resolving demos.dlnlp.ai (demos.dlnlp.ai)... 74.208.236.113, 2607:f1c0:100f:f000::264\n",
            "Connecting to demos.dlnlp.ai (demos.dlnlp.ai)|74.208.236.113|:443... connected.\n",
            "HTTP request sent, awaiting response... 200 OK\n",
            "Length: 2277022086 (2.1G) [application/gzip]\n",
            "Saving to: ‘afrolid_model.tar.gz’\n",
            "\n",
            "afrolid_model.tar.g 100%[===================>]   2.12G  76.4MB/s    in 30s     \n",
            "\n",
            "2022-12-05 22:21:33 (72.0 MB/s) - ‘afrolid_model.tar.gz’ saved [2277022086/2277022086]\n",
            "\n"
          ]
        }
      ]
    },
    {
      "cell_type": "markdown",
      "metadata": {
        "id": "yXqFDD05iL21"
      },
      "source": [
        "## (2) Initial AfroLID object"
      ]
    },
    {
      "cell_type": "code",
      "execution_count": 16,
      "metadata": {
        "id": "ved3JKTrFfWl"
      },
      "outputs": [],
      "source": [
        "import os, sys\n",
        "import logging\n",
        "from afrolid.main import classifier"
      ]
    },
    {
      "cell_type": "code",
      "source": [
        "logging.basicConfig(\n",
        "    format=\"%(asctime)s | %(levelname)s | %(name)s | %(message)s\",\n",
        "    datefmt=\"%Y-%m-%d %H:%M:%S\",\n",
        "    level=os.environ.get(\"LOGLEVEL\", \"INFO\").upper(),\n",
        "    force=True, # Resets any previous configuration\n",
        ")\n",
        "logger = logging.getLogger(\"afroli\")\n"
      ],
      "metadata": {
        "id": "xtKaQb5PYom3"
      },
      "execution_count": 29,
      "outputs": []
    },
    {
      "cell_type": "code",
      "execution_count": 30,
      "metadata": {
        "id": "wP1miA5bQoqQ",
        "colab": {
          "base_uri": "https://localhost:8080/"
        },
        "outputId": "8df81065-55d4-4c07-9b1f-4b8133e8aecc"
      },
      "outputs": [
        {
          "output_type": "stream",
          "name": "stderr",
          "text": [
            "2022-12-05 22:36:15 | INFO | afroli | Initalizing AfroLID's task and model.\n"
          ]
        },
        {
          "output_type": "stream",
          "name": "stdout",
          "text": [
            "| [input] dictionary: 64001 types\n",
            "| [label] dictionary: 528 types\n"
          ]
        }
      ],
      "source": [
        "cl = classifier(logger, model_path=\"/content/afrolid_model\")"
      ]
    },
    {
      "cell_type": "markdown",
      "source": [
        "## (3) Get language prediction(s)"
      ],
      "metadata": {
        "id": "34U8gcSPnivj"
      }
    },
    {
      "cell_type": "code",
      "execution_count": 50,
      "metadata": {
        "colab": {
          "base_uri": "https://localhost:8080/"
        },
        "id": "ldRl0S0KQbZz",
        "outputId": "11caf1ac-68b6-40d2-bb0e-ebbc692a5b85"
      },
      "outputs": [
        {
          "output_type": "stream",
          "name": "stderr",
          "text": [
            "2022-12-05 23:23:11 | INFO | afroli | Input text: 6Acï looi aya në wuöt dït kɔ̈k yiic ku lɔ wuöt tɔ̈u tëmec piny de Manatha ku Eparaim ku Thimion , ku ɣään mec tɔ̈u të lɔ rut cï Naptali\n"
          ]
        },
        {
          "output_type": "stream",
          "name": "stdout",
          "text": [
            "Predicted languages:\n",
            "     |-- ISO: dip\tName: Dinka, Northeastern\tScript: Latin\tScore: 100.0%\n"
          ]
        }
      ],
      "source": [
        "## Gold label = dip\n",
        "text=\"6Acï looi aya në wuöt dït kɔ̈k yiic ku lɔ wuöt tɔ̈u tëmec piny de Manatha ku Eparaim ku Thimion , ku ɣään mec tɔ̈u të lɔ rut cï Naptali\"\n",
        "predicted_langs = cl.classify(text) # default max_outputs=3\n",
        "print(\"Predicted languages:\")\n",
        "for lang in predicted_langs:\n",
        "  print(\"     |-- ISO: {}\\tName: {}\\tScript: {}\\tScore: {}%\".format(\n",
        "                      lang,\n",
        "                      predicted_langs[lang]['name'], \n",
        "                      predicted_langs[lang]['script'],\n",
        "                      predicted_langs[lang]['score']))"
      ]
    },
    {
      "cell_type": "code",
      "source": [
        "## Gold label = kmy\n",
        "text=\"Ama vuodieke nɩŋ mana n Chʋa Ŋmɩŋ dɩ nagɩna yɩ mɩŋ , nan keŋ n jigiŋ a yi mɩŋ yada , ta n kaaŋ yagɩ vuodieke nɩŋ dɩ kienene n jigiŋ\"\n",
        "predicted_langs = cl.classify(text)  # default max_outputs=3\n",
        "print(\"Predicted languages:\")\n",
        "for lang in predicted_langs:\n",
        "  print(\"     |-- ISO: {}\\tName: {}\\tScript: {}\\tScore: {}%\".format(\n",
        "                      lang,\n",
        "                      predicted_langs[lang]['name'], \n",
        "                      predicted_langs[lang]['script'],\n",
        "                      predicted_langs[lang]['score']))"
      ],
      "metadata": {
        "colab": {
          "base_uri": "https://localhost:8080/"
        },
        "id": "3fd7JEi5mfap",
        "outputId": "7e6def4f-6de3-402a-c201-ea698d45ad1b"
      },
      "execution_count": 52,
      "outputs": [
        {
          "output_type": "stream",
          "name": "stderr",
          "text": [
            "2022-12-05 23:24:28 | INFO | afroli | Input text: Ama vuodieke nɩŋ mana n Chʋa Ŋmɩŋ dɩ nagɩna yɩ mɩŋ , nan keŋ n jigiŋ a yi mɩŋ yada , ta n kaaŋ yagɩ vuodieke nɩŋ dɩ kienene n jigiŋ\n"
          ]
        },
        {
          "output_type": "stream",
          "name": "stdout",
          "text": [
            "Predicted languages:\n",
            "     |-- ISO: kma\tName: Konni\tScript: Latin\tScore: 68.42%\n",
            "     |-- ISO: kmy\tName: Koma\tScript: Latin\tScore: 31.58%\n"
          ]
        }
      ]
    },
    {
      "cell_type": "markdown",
      "metadata": {
        "id": "KiDAIcmkkEnx"
      },
      "source": [
        "## (3) Integrate with Pandas\n"
      ]
    },
    {
      "cell_type": "code",
      "source": [
        "!wget https://raw.githubusercontent.com/UBC-NLP/afrolid/main/examples/examples.tsv -O examples.tsv"
      ],
      "metadata": {
        "colab": {
          "base_uri": "https://localhost:8080/"
        },
        "id": "a58-T-g0e7yT",
        "outputId": "ac01d107-4766-49d3-e8b9-9b444e45ec5f"
      },
      "execution_count": 32,
      "outputs": [
        {
          "output_type": "stream",
          "name": "stdout",
          "text": [
            "--2022-12-05 22:50:39--  https://raw.githubusercontent.com/UBC-NLP/afrolid/main/examples/examples.tsv\n",
            "Resolving raw.githubusercontent.com (raw.githubusercontent.com)... 185.199.108.133, 185.199.109.133, 185.199.110.133, ...\n",
            "Connecting to raw.githubusercontent.com (raw.githubusercontent.com)|185.199.108.133|:443... connected.\n",
            "HTTP request sent, awaiting response... 200 OK\n",
            "Length: 5464 (5.3K) [text/plain]\n",
            "Saving to: ‘examples.tsv’\n",
            "\n",
            "\rexamples.tsv          0%[                    ]       0  --.-KB/s               \rexamples.tsv        100%[===================>]   5.34K  --.-KB/s    in 0s      \n",
            "\n",
            "2022-12-05 22:50:39 (51.4 MB/s) - ‘examples.tsv’ saved [5464/5464]\n",
            "\n"
          ]
        }
      ]
    },
    {
      "cell_type": "code",
      "execution_count": 41,
      "metadata": {
        "colab": {
          "base_uri": "https://localhost:8080/",
          "height": 708
        },
        "id": "LwmTQwGUk_Nn",
        "outputId": "baf994d0-26b5-4016-db4e-b6a6daf6a8dc"
      },
      "outputs": [
        {
          "output_type": "execute_result",
          "data": {
            "text/plain": [
              "   gold_label                                            content\n",
              "0         dip  6Acï looi aya në wuöt dït kɔ̈k yiic ku lɔ wuöt...\n",
              "1         twi  Aprannaa ason no gyigyei akyi no , ɔbɔfo hoɔde...\n",
              "2         tex  Akatek zin u̱zu̱ngtti̱ lo̱o̱c kar zin ki̱di̱ng...\n",
              "3         aha  Dwɔɔnʋ 4 : 8 Mɩnla mfasʋ yɛ yenyia wɔ Nyamɩnlɩ...\n",
              "4         ngo  Vamteta vakulu na vagogo va vandu vamkotili “ ...\n",
              "5         akp  1Nnɛgbe kama ne , lonya bɔi lalaa ɔwɛ̃ gɔ ɔto ...\n",
              "6         bst  ዬሱ̈ሲ ዋ ን ዎይና ጃ̇ ላ̈ሚ̇ዴ 1ዓይዚ̇ ቃም̇ ፥ ጋሊላ ጋዳ̇ ዎ ቃ̈...\n",
              "7         spp  20Ɲyɛ sùpyire t'à pyi ti ɲyɛ a kwû yire yyefuy...\n",
              "8         dsh  56Hééllá lulle hatallá ˈdíéllá he giri ˈdeeny ...\n",
              "9         sgw  ፍጥረት እንም ይእግዘር ክብር ያትየሽ 1በሰሜ ያነቦ እንም ይእግዘር ክብር...\n",
              "10        bss  Nyéwêd bad ábe béwóó mbwɔ́g áte , nlém...\n",
              "11        mdy                            ኔ ታ ኮራፓ ሃኪፖ ፤ ታ ፆኦዛሢዮ !\n",
              "12        tir  ዮሃንስ ኣብ ኢድ እቲ ብርቱዕ መልኣኽ እንታይ ይርኢ ፧ 5 ዮሃንስ ተወሳኺ...\n",
              "13        kmy  37Ama vuodieke nɩŋ mana n Chʋa Ŋmɩŋ dɩ nagɩna ...\n",
              "14        mfz  5Yecu tocɛ ma ti : Am kicra ballɛ yɛke ti aŋɛ ...\n",
              "15        orm  ୨୩ % ଲୋକ ସେଠାରେ ୬ ବର୍ଷ ବୟସରୁ କମ ବୟସ୍କ ଅଟନ୍ତି ।...\n",
              "16        vut  28Ɓwâ nɨ̀kwííb kwá səəmcuhó̧ré , ŋgə́ ma kwá ...\n",
              "17        amh  ከ ሀ እከ ፖ የኮሜዲያን ቶማስ እና ናቲ ኮሜዲ ድራማ እና 50 አለቃ ገብ...\n",
              "18        xan  ዩ ። 17እኒንት ዊግታንድም ጝት ተቃውምሽጛ ዊነቍድቅ ኣይቭት ፤ ኽዝቭድ ...\n",
              "19        yor  Ó lè gé igi kedari lulẹ̀ , tabi kí ó gbin igi ...\n",
              "20        rif  أوشا يبد ارايس ن ڒفقها ينا-ٱس إ عيسى : ما وار ..."
            ],
            "text/html": [
              "\n",
              "  <div id=\"df-9247a1df-cc57-407b-a7ea-ec7e821c64d5\">\n",
              "    <div class=\"colab-df-container\">\n",
              "      <div>\n",
              "<style scoped>\n",
              "    .dataframe tbody tr th:only-of-type {\n",
              "        vertical-align: middle;\n",
              "    }\n",
              "\n",
              "    .dataframe tbody tr th {\n",
              "        vertical-align: top;\n",
              "    }\n",
              "\n",
              "    .dataframe thead th {\n",
              "        text-align: right;\n",
              "    }\n",
              "</style>\n",
              "<table border=\"1\" class=\"dataframe\">\n",
              "  <thead>\n",
              "    <tr style=\"text-align: right;\">\n",
              "      <th></th>\n",
              "      <th>gold_label</th>\n",
              "      <th>content</th>\n",
              "    </tr>\n",
              "  </thead>\n",
              "  <tbody>\n",
              "    <tr>\n",
              "      <th>0</th>\n",
              "      <td>dip</td>\n",
              "      <td>6Acï looi aya në wuöt dït kɔ̈k yiic ku lɔ wuöt...</td>\n",
              "    </tr>\n",
              "    <tr>\n",
              "      <th>1</th>\n",
              "      <td>twi</td>\n",
              "      <td>Aprannaa ason no gyigyei akyi no , ɔbɔfo hoɔde...</td>\n",
              "    </tr>\n",
              "    <tr>\n",
              "      <th>2</th>\n",
              "      <td>tex</td>\n",
              "      <td>Akatek zin u̱zu̱ngtti̱ lo̱o̱c kar zin ki̱di̱ng...</td>\n",
              "    </tr>\n",
              "    <tr>\n",
              "      <th>3</th>\n",
              "      <td>aha</td>\n",
              "      <td>Dwɔɔnʋ 4 : 8 Mɩnla mfasʋ yɛ yenyia wɔ Nyamɩnlɩ...</td>\n",
              "    </tr>\n",
              "    <tr>\n",
              "      <th>4</th>\n",
              "      <td>ngo</td>\n",
              "      <td>Vamteta vakulu na vagogo va vandu vamkotili “ ...</td>\n",
              "    </tr>\n",
              "    <tr>\n",
              "      <th>5</th>\n",
              "      <td>akp</td>\n",
              "      <td>1Nnɛgbe kama ne , lonya bɔi lalaa ɔwɛ̃ gɔ ɔto ...</td>\n",
              "    </tr>\n",
              "    <tr>\n",
              "      <th>6</th>\n",
              "      <td>bst</td>\n",
              "      <td>ዬሱ̈ሲ ዋ ን ዎይና ጃ̇ ላ̈ሚ̇ዴ 1ዓይዚ̇ ቃም̇ ፥ ጋሊላ ጋዳ̇ ዎ ቃ̈...</td>\n",
              "    </tr>\n",
              "    <tr>\n",
              "      <th>7</th>\n",
              "      <td>spp</td>\n",
              "      <td>20Ɲyɛ sùpyire t'à pyi ti ɲyɛ a kwû yire yyefuy...</td>\n",
              "    </tr>\n",
              "    <tr>\n",
              "      <th>8</th>\n",
              "      <td>dsh</td>\n",
              "      <td>56Hééllá lulle hatallá ˈdíéllá he giri ˈdeeny ...</td>\n",
              "    </tr>\n",
              "    <tr>\n",
              "      <th>9</th>\n",
              "      <td>sgw</td>\n",
              "      <td>ፍጥረት እንም ይእግዘር ክብር ያትየሽ 1በሰሜ ያነቦ እንም ይእግዘር ክብር...</td>\n",
              "    </tr>\n",
              "    <tr>\n",
              "      <th>10</th>\n",
              "      <td>bss</td>\n",
              "      <td>Nyéwêd bad ábe béwóó mbwɔ́g áte , nlém...</td>\n",
              "    </tr>\n",
              "    <tr>\n",
              "      <th>11</th>\n",
              "      <td>mdy</td>\n",
              "      <td>ኔ ታ ኮራፓ ሃኪፖ ፤ ታ ፆኦዛሢዮ !</td>\n",
              "    </tr>\n",
              "    <tr>\n",
              "      <th>12</th>\n",
              "      <td>tir</td>\n",
              "      <td>ዮሃንስ ኣብ ኢድ እቲ ብርቱዕ መልኣኽ እንታይ ይርኢ ፧ 5 ዮሃንስ ተወሳኺ...</td>\n",
              "    </tr>\n",
              "    <tr>\n",
              "      <th>13</th>\n",
              "      <td>kmy</td>\n",
              "      <td>37Ama vuodieke nɩŋ mana n Chʋa Ŋmɩŋ dɩ nagɩna ...</td>\n",
              "    </tr>\n",
              "    <tr>\n",
              "      <th>14</th>\n",
              "      <td>mfz</td>\n",
              "      <td>5Yecu tocɛ ma ti : Am kicra ballɛ yɛke ti aŋɛ ...</td>\n",
              "    </tr>\n",
              "    <tr>\n",
              "      <th>15</th>\n",
              "      <td>orm</td>\n",
              "      <td>୨୩ % ଲୋକ ସେଠାରେ ୬ ବର୍ଷ ବୟସରୁ କମ ବୟସ୍କ ଅଟନ୍ତି ।...</td>\n",
              "    </tr>\n",
              "    <tr>\n",
              "      <th>16</th>\n",
              "      <td>vut</td>\n",
              "      <td>28Ɓwâ nɨ̀kwííb kwá səəmcuhó̧ré , ŋgə́ ma kwá ...</td>\n",
              "    </tr>\n",
              "    <tr>\n",
              "      <th>17</th>\n",
              "      <td>amh</td>\n",
              "      <td>ከ ሀ እከ ፖ የኮሜዲያን ቶማስ እና ናቲ ኮሜዲ ድራማ እና 50 አለቃ ገብ...</td>\n",
              "    </tr>\n",
              "    <tr>\n",
              "      <th>18</th>\n",
              "      <td>xan</td>\n",
              "      <td>ዩ ። 17እኒንት ዊግታንድም ጝት ተቃውምሽጛ ዊነቍድቅ ኣይቭት ፤ ኽዝቭድ ...</td>\n",
              "    </tr>\n",
              "    <tr>\n",
              "      <th>19</th>\n",
              "      <td>yor</td>\n",
              "      <td>Ó lè gé igi kedari lulẹ̀ , tabi kí ó gbin igi ...</td>\n",
              "    </tr>\n",
              "    <tr>\n",
              "      <th>20</th>\n",
              "      <td>rif</td>\n",
              "      <td>أوشا يبد ارايس ن ڒفقها ينا-ٱس إ عيسى : ما وار ...</td>\n",
              "    </tr>\n",
              "  </tbody>\n",
              "</table>\n",
              "</div>\n",
              "      <button class=\"colab-df-convert\" onclick=\"convertToInteractive('df-9247a1df-cc57-407b-a7ea-ec7e821c64d5')\"\n",
              "              title=\"Convert this dataframe to an interactive table.\"\n",
              "              style=\"display:none;\">\n",
              "        \n",
              "  <svg xmlns=\"http://www.w3.org/2000/svg\" height=\"24px\"viewBox=\"0 0 24 24\"\n",
              "       width=\"24px\">\n",
              "    <path d=\"M0 0h24v24H0V0z\" fill=\"none\"/>\n",
              "    <path d=\"M18.56 5.44l.94 2.06.94-2.06 2.06-.94-2.06-.94-.94-2.06-.94 2.06-2.06.94zm-11 1L8.5 8.5l.94-2.06 2.06-.94-2.06-.94L8.5 2.5l-.94 2.06-2.06.94zm10 10l.94 2.06.94-2.06 2.06-.94-2.06-.94-.94-2.06-.94 2.06-2.06.94z\"/><path d=\"M17.41 7.96l-1.37-1.37c-.4-.4-.92-.59-1.43-.59-.52 0-1.04.2-1.43.59L10.3 9.45l-7.72 7.72c-.78.78-.78 2.05 0 2.83L4 21.41c.39.39.9.59 1.41.59.51 0 1.02-.2 1.41-.59l7.78-7.78 2.81-2.81c.8-.78.8-2.07 0-2.86zM5.41 20L4 18.59l7.72-7.72 1.47 1.35L5.41 20z\"/>\n",
              "  </svg>\n",
              "      </button>\n",
              "      \n",
              "  <style>\n",
              "    .colab-df-container {\n",
              "      display:flex;\n",
              "      flex-wrap:wrap;\n",
              "      gap: 12px;\n",
              "    }\n",
              "\n",
              "    .colab-df-convert {\n",
              "      background-color: #E8F0FE;\n",
              "      border: none;\n",
              "      border-radius: 50%;\n",
              "      cursor: pointer;\n",
              "      display: none;\n",
              "      fill: #1967D2;\n",
              "      height: 32px;\n",
              "      padding: 0 0 0 0;\n",
              "      width: 32px;\n",
              "    }\n",
              "\n",
              "    .colab-df-convert:hover {\n",
              "      background-color: #E2EBFA;\n",
              "      box-shadow: 0px 1px 2px rgba(60, 64, 67, 0.3), 0px 1px 3px 1px rgba(60, 64, 67, 0.15);\n",
              "      fill: #174EA6;\n",
              "    }\n",
              "\n",
              "    [theme=dark] .colab-df-convert {\n",
              "      background-color: #3B4455;\n",
              "      fill: #D2E3FC;\n",
              "    }\n",
              "\n",
              "    [theme=dark] .colab-df-convert:hover {\n",
              "      background-color: #434B5C;\n",
              "      box-shadow: 0px 1px 3px 1px rgba(0, 0, 0, 0.15);\n",
              "      filter: drop-shadow(0px 1px 2px rgba(0, 0, 0, 0.3));\n",
              "      fill: #FFFFFF;\n",
              "    }\n",
              "  </style>\n",
              "\n",
              "      <script>\n",
              "        const buttonEl =\n",
              "          document.querySelector('#df-9247a1df-cc57-407b-a7ea-ec7e821c64d5 button.colab-df-convert');\n",
              "        buttonEl.style.display =\n",
              "          google.colab.kernel.accessAllowed ? 'block' : 'none';\n",
              "\n",
              "        async function convertToInteractive(key) {\n",
              "          const element = document.querySelector('#df-9247a1df-cc57-407b-a7ea-ec7e821c64d5');\n",
              "          const dataTable =\n",
              "            await google.colab.kernel.invokeFunction('convertToInteractive',\n",
              "                                                     [key], {});\n",
              "          if (!dataTable) return;\n",
              "\n",
              "          const docLinkHtml = 'Like what you see? Visit the ' +\n",
              "            '<a target=\"_blank\" href=https://colab.research.google.com/notebooks/data_table.ipynb>data table notebook</a>'\n",
              "            + ' to learn more about interactive tables.';\n",
              "          element.innerHTML = '';\n",
              "          dataTable['output_type'] = 'display_data';\n",
              "          await google.colab.output.renderOutput(dataTable, element);\n",
              "          const docLink = document.createElement('div');\n",
              "          docLink.innerHTML = docLinkHtml;\n",
              "          element.appendChild(docLink);\n",
              "        }\n",
              "      </script>\n",
              "    </div>\n",
              "  </div>\n",
              "  "
            ]
          },
          "metadata": {},
          "execution_count": 41
        }
      ],
      "source": [
        "import pandas as pd\n",
        "from tqdm import tqdm\n",
        "tqdm.pandas()\n",
        "df = pd.read_csv(\"examples.tsv\", sep=\"\\t\")\n",
        "df"
      ]
    },
    {
      "cell_type": "code",
      "execution_count": 47,
      "metadata": {
        "id": "TC2ycVKAEsmA"
      },
      "outputs": [],
      "source": [
        "def get_afrolid_prediction(text):\n",
        "  predictions = cl.classify(text, max_outputs=1)\n",
        "  for lang in predictions:\n",
        "    return lang, predictions[lang]['score'], predictions[lang]['name'], predictions[lang]['script']"
      ]
    },
    {
      "cell_type": "code",
      "execution_count": 49,
      "metadata": {
        "colab": {
          "base_uri": "https://localhost:8080/",
          "height": 1000
        },
        "id": "0pxAlVkrlFbT",
        "outputId": "e72163d6-af2a-4083-bd45-b5dd2d730983"
      },
      "outputs": [
        {
          "output_type": "stream",
          "name": "stderr",
          "text": [
            "  0%|          | 0/21 [00:00<?, ?it/s]2022-12-05 23:19:54 | INFO | afroli | Input text: 6Acï looi aya në wuöt dït kɔ̈k yiic ku lɔ wuöt tɔ̈u tëmec piny de Manatha ku Eparaim ku Thimion , ku ɣään mec tɔ̈u të lɔ rut cï Naptali .\n",
            " 10%|▉         | 2/21 [00:01<00:10,  1.83it/s]2022-12-05 23:19:55 | INFO | afroli | Input text: Aprannaa ason no gyigyei akyi no , ɔbɔfo hoɔdenfo no kasa bio : “ Na ɔbɔfo a mihuu no sɛ ogyina po ne asase so no maa ne nsa nifa so kyerɛɛ ɔsoro .\n",
            " 14%|█▍        | 3/21 [00:01<00:10,  1.68it/s]2022-12-05 23:19:56 | INFO | afroli | Input text: Akatek zin u̱zu̱ngtti̱ lo̱o̱c kar zin ki̱di̱ngdi̱nga̱n Ye̱su̱ .\n",
            " 19%|█▉        | 4/21 [00:02<00:10,  1.65it/s]2022-12-05 23:19:57 | INFO | afroli | Input text: Dwɔɔnʋ 4 : 8 Mɩnla mfasʋ yɛ yenyia wɔ Nyamɩnlɩ yɩ ɔlɔlɛ zʋ a ?\n",
            " 24%|██▍       | 5/21 [00:03<00:09,  1.63it/s]2022-12-05 23:19:57 | INFO | afroli | Input text: Vamteta vakulu na vagogo va vandu vamkotili “ Wihenga mambu genago kwa uhotola woki ?\n",
            " 29%|██▊       | 6/21 [00:03<00:09,  1.59it/s]2022-12-05 23:19:58 | INFO | afroli | Input text: 1Nnɛgbe kama ne , lonya bɔi lalaa ɔwɛ̃ gɔ ɔto ɔbɔrɛ i ɔpo ame .\n",
            " 33%|███▎      | 7/21 [00:04<00:08,  1.60it/s]2022-12-05 23:19:59 | INFO | afroli | Input text: ዬሱ̈ሲ ዋ ን ዎይና ጃ̇ ላ̈ሚ̇ዴ 1ዓይዚ̇ ቃም̇ ፥ ጋሊላ ጋዳ̇ ዎ ቃ̈ና ጋ̈ዝ ካታሚን ጋርታ̇ ኢሲ̇ ዎ ዶ̈ን ፥ ዬሱ̈ሳ ኢንዳ̇ሬ ኢና ኢሲ̇ን ጋርታ̇ ዎ ። 2ዬሱ̈ሳኬ ኢ ታማ̈ራን ኬ ኢሲ̇ን ጋርታ̇ ዬ̈ምፔ̈ን ጼይጊንቲ̇ኔ ። 3ኢሳ̇ቦ ጋ̈ር ማስኪ̇ኖ ዎይና ጂ̇ን ዉሪንዶ̈ን ፥ ዬሱ̈ሳ ኢንዳ̇ ዬሱ̈ሳኮ “ ኢንታ̇ ዎይና ጂ̇ን ዉሪኒሽዋ !\n",
            " 38%|███▊      | 8/21 [00:04<00:08,  1.57it/s]2022-12-05 23:19:59 | INFO | afroli | Input text: 20Ɲyɛ sùpyire t'à pyi ti ɲyɛ a kwû yire yyefuyi cye e mɛ , tire ɲyɛ a láha ti cyeyayaayi mpèeŋi na mɛ .\n",
            " 43%|████▎     | 9/21 [00:05<00:07,  1.57it/s]2022-12-05 23:20:00 | INFO | afroli | Input text: 56Hééllá lulle hatallá ˈdíéllá he giri ˈdeeny gál Waag hí ˈdeem ka shigicheká hí ˈdiiyime - , Warˈgat Waaˈgiet gaa ijoká ˈduuwawká , Yíésu hí gáál yie .\n",
            " 48%|████▊     | 10/21 [00:06<00:06,  1.58it/s]2022-12-05 23:20:00 | INFO | afroli | Input text: ፍጥረት እንም ይእግዘር ክብር ያትየሽ 1በሰሜ ያነቦ እንም ይእግዘር ክብር ዩዶ ፤ ሰሜም ይእግዘር ሜና አዋጅ ዩዶ ። 2አት ከረ ይንጐድ ከረ ዝኸታ ያት ር ፤ አትም ምሳረ ይንጐድ ምሳረ ዝኸታ ይዝረ ። 3ይዝረኮ አነበት ኤነኖ ፤ ቃርመ ና ኤትሰማ ፤ 4የኽርምታነ ና ቸረ ና ባለም እንም ይሰራ ፤ ያፈር ዳረታም ስን ይሰራ ፤ እግዘር ኤያት ይረብርወ መደር ሰሜ አ ነንም ። 5ኤያት ፥ ተምሽራ ዘገር ይወጣ ምሽረነ ኸማ ኸረም ፥ ያትባትርሜ የትሽካከተ ኑጫማ ኸማ ተጬፐም ፥ ቅረረ ፥ ቅረረ ይወጣ ። 6ታት የሰሜ ዳር ተረሳም ፤ ይንጐድ የሰሜ ዳሬንየ ያር ፤ ተ ቅነትመታ ጦና ያመርጤ ይዀለቃር ኤነ ። ይእግዘር ጫ 7ይእግዘር ጫ የመጠረው ፤ ነብስ ገደር ያሜ ፤ ይእግዘር ትዛዝ የታመረው ፤ የጋዋ ሰብ ኻሪነት ይብ ። 8ይእግዘር ጫ ጥየው ፤ ን ይሽንኸማ ያሜ ፤ ይእግዘር ትዛዝ የመጠረው ፤ የቀልብ ኤን ይከፍት ። 9እግዘር በስኔፈ አገክሮት ወኼቃሩ ፤ የዘላለም ይረብር ፤ ይእግዘር ፍርድ እንም ውረምም ጥየሙ ። 10ቶርቅ ፥ አቸም አረጠርም ተሸኰቺ ጥርር ወርቅ ይርቅ የትረመደው ፤ ተውየ ፥ አቸም ተውየ ዝሰ ይርቅ ይተም ። 11ይያም ያገልጌያኸ ያጬፔ ፤ ጫማኸ ቦቀየ ብዘ ጥቅም ኧረኽብ ። 12የገገታ ስተት ያዥ ሟኒም ሰብ ኤነ ፤ ታኖ !\n",
            " 52%|█████▏    | 11/21 [00:07<00:08,  1.15it/s]2022-12-05 23:20:02 | INFO | afroli | Input text: Nyéwêd bad ábe béwóó mbwɔ́g áte , nlém á abum .\n",
            " 57%|█████▋    | 12/21 [00:08<00:07,  1.26it/s]2022-12-05 23:20:02 | INFO | afroli | Input text: ኔ ታ ኮራፓ ሃኪፖ ፤ ታ ፆኦዛሢዮ !\n",
            " 62%|██████▏   | 13/21 [00:08<00:05,  1.34it/s]2022-12-05 23:20:03 | INFO | afroli | Input text: ዮሃንስ ኣብ ኢድ እቲ ብርቱዕ መልኣኽ እንታይ ይርኢ ፧ 5 ዮሃንስ ተወሳኺ ነገር ይርኢ : - “ ኣብ ኢዱ ኸኣ ሓንቲ ንእሽቶ ግንጽልቲ መጽሓፍ [ “ ጥቕላል : ” NW ] አላቶ ። ነታ የማነይቲ እግሩ ኣብ ባሕሪ ረገጸላ : ነታ ጸጋመይቲ ድማ ኣብ ምድሪ ረገጸላ ። ” ( ራእይ 10 : 2 ) ሕጂ ኸኣ ካልእ ጥቕላል ፧ እወ : ሕጂ ግን እተሓትመት ኣይኰነትን ። ንሕናውን ቀልጢፍና ምስ ዮሃንስ ኴንና ተወሳኺ ባህ ዘብል ነገራት ክንርኢ ክንጽበ ንኽእል ኢና ። መጀመርታ ግን ናይቲ ክስዕብ ዘለዎ ኣቀማምጣ ክወሃበና ኢዩ ። 6 .\n",
            " 67%|██████▋   | 14/21 [00:09<00:05,  1.31it/s]2022-12-05 23:20:04 | INFO | afroli | Input text: 37Ama vuodieke nɩŋ mana n Chʋa Ŋmɩŋ dɩ nagɩna yɩ mɩŋ , nan keŋ n jigiŋ a yi mɩŋ yada , ta n kaaŋ yagɩ vuodieke nɩŋ dɩ kienene n jigiŋ .\n",
            " 71%|███████▏  | 15/21 [00:10<00:04,  1.39it/s]2022-12-05 23:20:05 | INFO | afroli | Input text: 5Yecu tocɛ ma ti : Am kicra ballɛ yɛke ti aŋɛ yitɛn ?\n",
            " 76%|███████▌  | 16/21 [00:10<00:03,  1.45it/s]2022-12-05 23:20:05 | INFO | afroli | Input text: ୨୩ % ଲୋକ ସେଠାରେ ୬ ବର୍ଷ ବୟସରୁ କମ ବୟସ୍କ ଅଟନ୍ତି । [ ୪ ]\n",
            " 81%|████████  | 17/21 [00:11<00:02,  1.49it/s]2022-12-05 23:20:06 | INFO | afroli | Input text: 28Ɓwâ nɨ̀kwííb kwá səəmcuhó̧ré , ŋgə́ ma kwá duhó̧bɨ́ɨŋ gwi naà , ɓetí ŋgáb tɨ́ɓaám lâs yi ɓuú ŋgə́ !\n",
            " 86%|████████▌ | 18/21 [00:12<00:01,  1.52it/s]2022-12-05 23:20:06 | INFO | afroli | Input text: ከ ሀ እከ ፖ የኮሜዲያን ቶማስ እና ናቲ ኮሜዲ ድራማ እና 50 አለቃ ገብሩ ልዩ የፋሲካ ፕሮግራም በኢቢኤስ ይጠብቁን / Special Fasika Program\n",
            " 90%|█████████ | 19/21 [00:12<00:01,  1.53it/s]2022-12-05 23:20:07 | INFO | afroli | Input text: ዩ ። 17እኒንት ዊግታንድም ጝት ተቃውምሽጛ ዊነቍድቅ ኣይቭት ፤ ኽዝቭድ ግን ጘጝ ሰራሸው ዲንቅሰው ሰቪዝቍዝ ዲስ ዩ ። ። ስናፍጭ ዚረት ተክድ ( ማቲ .\n",
            " 95%|█████████▌| 20/21 [00:13<00:00,  1.54it/s]2022-12-05 23:20:08 | INFO | afroli | Input text: Ó lè gé igi kedari lulẹ̀ , tabi kí ó gbin igi Sipirẹsi , tabi igi Oaku , kí ó jẹ́ kí ó dàgbà láàrin àwọn igi inú igbó .\n",
            "100%|██████████| 21/21 [00:14<00:00,  1.55it/s]2022-12-05 23:20:08 | INFO | afroli | Input text: أوشا يبد ارايس ن ڒفقها ينا-ٱس إ عيسى : ما وار ثقارذ والو شك ؟ مين خاش شهذن يوذان-أ ؟ ' 63ئقيم عيسى يسقر وار ذاس ييني والو .\n",
            "100%|██████████| 21/21 [00:14<00:00,  1.43it/s]\n"
          ]
        },
        {
          "output_type": "execute_result",
          "data": {
            "text/plain": [
              "   gold_label                                            content predict_iso  \\\n",
              "0         dip  6Acï looi aya në wuöt dït kɔ̈k yiic ku lɔ wuöt...         dip   \n",
              "1         twi  Aprannaa ason no gyigyei akyi no , ɔbɔfo hoɔde...         twi   \n",
              "2         tex  Akatek zin u̱zu̱ngtti̱ lo̱o̱c kar zin ki̱di̱ng...         tex   \n",
              "3         aha  Dwɔɔnʋ 4 : 8 Mɩnla mfasʋ yɛ yenyia wɔ Nyamɩnlɩ...         aha   \n",
              "4         ngo  Vamteta vakulu na vagogo va vandu vamkotili “ ...         ngo   \n",
              "5         akp  1Nnɛgbe kama ne , lonya bɔi lalaa ɔwɛ̃ gɔ ɔto ...         akp   \n",
              "6         bst  ዬሱ̈ሲ ዋ ን ዎይና ጃ̇ ላ̈ሚ̇ዴ 1ዓይዚ̇ ቃም̇ ፥ ጋሊላ ጋዳ̇ ዎ ቃ̈...         bst   \n",
              "7         spp  20Ɲyɛ sùpyire t'à pyi ti ɲyɛ a kwû yire yyefuy...         spp   \n",
              "8         dsh  56Hééllá lulle hatallá ˈdíéllá he giri ˈdeeny ...         dsh   \n",
              "9         sgw  ፍጥረት እንም ይእግዘር ክብር ያትየሽ 1በሰሜ ያነቦ እንም ይእግዘር ክብር...         sgw   \n",
              "10        bss  Nyéwêd bad ábe béwóó mbwɔ́g áte , nlém...         bss   \n",
              "11        mdy                            ኔ ታ ኮራፓ ሃኪፖ ፤ ታ ፆኦዛሢዮ !         mdy   \n",
              "12        tir  ዮሃንስ ኣብ ኢድ እቲ ብርቱዕ መልኣኽ እንታይ ይርኢ ፧ 5 ዮሃንስ ተወሳኺ...         tir   \n",
              "13        kmy  37Ama vuodieke nɩŋ mana n Chʋa Ŋmɩŋ dɩ nagɩna ...         kma   \n",
              "14        mfz  5Yecu tocɛ ma ti : Am kicra ballɛ yɛke ti aŋɛ ...         mfz   \n",
              "15        orm  ୨୩ % ଲୋକ ସେଠାରେ ୬ ବର୍ଷ ବୟସରୁ କମ ବୟସ୍କ ଅଟନ୍ତି ।...         orm   \n",
              "16        vut  28Ɓwâ nɨ̀kwííb kwá səəmcuhó̧ré , ŋgə́ ma kwá ...         vut   \n",
              "17        amh  ከ ሀ እከ ፖ የኮሜዲያን ቶማስ እና ናቲ ኮሜዲ ድራማ እና 50 አለቃ ገብ...         amh   \n",
              "18        xan  ዩ ። 17እኒንት ዊግታንድም ጝት ተቃውምሽጛ ዊነቍድቅ ኣይቭት ፤ ኽዝቭድ ...         xan   \n",
              "19        yor  Ó lè gé igi kedari lulẹ̀ , tabi kí ó gbin igi ...         yor   \n",
              "20        rif  أوشا يبد ارايس ن ڒفقها ينا-ٱس إ عيسى : ما وار ...         rif   \n",
              "\n",
              "    predict_score         predict_name    predict_script  \n",
              "0          100.00  Dinka, Northeastern             Latin  \n",
              "1           99.97                  Twi             Latin  \n",
              "2          100.00               Tennet             Latin  \n",
              "3          100.00               Ahanta             Latin  \n",
              "4          100.00                Ngoni             Latin  \n",
              "5          100.00                 Siwu             Latin  \n",
              "6          100.00              Basketo          Ethiopic  \n",
              "7          100.00     Sénoufo, Supyire             Latin  \n",
              "8          100.00            Daasanach             Latin  \n",
              "9          100.00     Sebat Bet Gurage             Latin  \n",
              "10         100.00               Akoose             Latin  \n",
              "11         100.00                Maale          Ethiopic  \n",
              "12         100.00             Tigrinya          Ethiopic  \n",
              "13          69.53                Konni             Latin  \n",
              "14          98.44               Mabaan             Latin  \n",
              "15         100.00                Oromo  Ethiopic / Latin  \n",
              "16         100.00                 Vute             Latin  \n",
              "17          93.10              Amharic          Ethiopic  \n",
              "18         100.00             Xamtanga          Ethiopic  \n",
              "19         100.00               Yoruba             Latin  \n",
              "20         100.00              Tarifit            Arabic  "
            ],
            "text/html": [
              "\n",
              "  <div id=\"df-9e1509f5-5d0f-4d5a-b4ba-32b9185e4968\">\n",
              "    <div class=\"colab-df-container\">\n",
              "      <div>\n",
              "<style scoped>\n",
              "    .dataframe tbody tr th:only-of-type {\n",
              "        vertical-align: middle;\n",
              "    }\n",
              "\n",
              "    .dataframe tbody tr th {\n",
              "        vertical-align: top;\n",
              "    }\n",
              "\n",
              "    .dataframe thead th {\n",
              "        text-align: right;\n",
              "    }\n",
              "</style>\n",
              "<table border=\"1\" class=\"dataframe\">\n",
              "  <thead>\n",
              "    <tr style=\"text-align: right;\">\n",
              "      <th></th>\n",
              "      <th>gold_label</th>\n",
              "      <th>content</th>\n",
              "      <th>predict_iso</th>\n",
              "      <th>predict_score</th>\n",
              "      <th>predict_name</th>\n",
              "      <th>predict_script</th>\n",
              "    </tr>\n",
              "  </thead>\n",
              "  <tbody>\n",
              "    <tr>\n",
              "      <th>0</th>\n",
              "      <td>dip</td>\n",
              "      <td>6Acï looi aya në wuöt dït kɔ̈k yiic ku lɔ wuöt...</td>\n",
              "      <td>dip</td>\n",
              "      <td>100.00</td>\n",
              "      <td>Dinka, Northeastern</td>\n",
              "      <td>Latin</td>\n",
              "    </tr>\n",
              "    <tr>\n",
              "      <th>1</th>\n",
              "      <td>twi</td>\n",
              "      <td>Aprannaa ason no gyigyei akyi no , ɔbɔfo hoɔde...</td>\n",
              "      <td>twi</td>\n",
              "      <td>99.97</td>\n",
              "      <td>Twi</td>\n",
              "      <td>Latin</td>\n",
              "    </tr>\n",
              "    <tr>\n",
              "      <th>2</th>\n",
              "      <td>tex</td>\n",
              "      <td>Akatek zin u̱zu̱ngtti̱ lo̱o̱c kar zin ki̱di̱ng...</td>\n",
              "      <td>tex</td>\n",
              "      <td>100.00</td>\n",
              "      <td>Tennet</td>\n",
              "      <td>Latin</td>\n",
              "    </tr>\n",
              "    <tr>\n",
              "      <th>3</th>\n",
              "      <td>aha</td>\n",
              "      <td>Dwɔɔnʋ 4 : 8 Mɩnla mfasʋ yɛ yenyia wɔ Nyamɩnlɩ...</td>\n",
              "      <td>aha</td>\n",
              "      <td>100.00</td>\n",
              "      <td>Ahanta</td>\n",
              "      <td>Latin</td>\n",
              "    </tr>\n",
              "    <tr>\n",
              "      <th>4</th>\n",
              "      <td>ngo</td>\n",
              "      <td>Vamteta vakulu na vagogo va vandu vamkotili “ ...</td>\n",
              "      <td>ngo</td>\n",
              "      <td>100.00</td>\n",
              "      <td>Ngoni</td>\n",
              "      <td>Latin</td>\n",
              "    </tr>\n",
              "    <tr>\n",
              "      <th>5</th>\n",
              "      <td>akp</td>\n",
              "      <td>1Nnɛgbe kama ne , lonya bɔi lalaa ɔwɛ̃ gɔ ɔto ...</td>\n",
              "      <td>akp</td>\n",
              "      <td>100.00</td>\n",
              "      <td>Siwu</td>\n",
              "      <td>Latin</td>\n",
              "    </tr>\n",
              "    <tr>\n",
              "      <th>6</th>\n",
              "      <td>bst</td>\n",
              "      <td>ዬሱ̈ሲ ዋ ን ዎይና ጃ̇ ላ̈ሚ̇ዴ 1ዓይዚ̇ ቃም̇ ፥ ጋሊላ ጋዳ̇ ዎ ቃ̈...</td>\n",
              "      <td>bst</td>\n",
              "      <td>100.00</td>\n",
              "      <td>Basketo</td>\n",
              "      <td>Ethiopic</td>\n",
              "    </tr>\n",
              "    <tr>\n",
              "      <th>7</th>\n",
              "      <td>spp</td>\n",
              "      <td>20Ɲyɛ sùpyire t'à pyi ti ɲyɛ a kwû yire yyefuy...</td>\n",
              "      <td>spp</td>\n",
              "      <td>100.00</td>\n",
              "      <td>Sénoufo, Supyire</td>\n",
              "      <td>Latin</td>\n",
              "    </tr>\n",
              "    <tr>\n",
              "      <th>8</th>\n",
              "      <td>dsh</td>\n",
              "      <td>56Hééllá lulle hatallá ˈdíéllá he giri ˈdeeny ...</td>\n",
              "      <td>dsh</td>\n",
              "      <td>100.00</td>\n",
              "      <td>Daasanach</td>\n",
              "      <td>Latin</td>\n",
              "    </tr>\n",
              "    <tr>\n",
              "      <th>9</th>\n",
              "      <td>sgw</td>\n",
              "      <td>ፍጥረት እንም ይእግዘር ክብር ያትየሽ 1በሰሜ ያነቦ እንም ይእግዘር ክብር...</td>\n",
              "      <td>sgw</td>\n",
              "      <td>100.00</td>\n",
              "      <td>Sebat Bet Gurage</td>\n",
              "      <td>Latin</td>\n",
              "    </tr>\n",
              "    <tr>\n",
              "      <th>10</th>\n",
              "      <td>bss</td>\n",
              "      <td>Nyéwêd bad ábe béwóó mbwɔ́g áte , nlém...</td>\n",
              "      <td>bss</td>\n",
              "      <td>100.00</td>\n",
              "      <td>Akoose</td>\n",
              "      <td>Latin</td>\n",
              "    </tr>\n",
              "    <tr>\n",
              "      <th>11</th>\n",
              "      <td>mdy</td>\n",
              "      <td>ኔ ታ ኮራፓ ሃኪፖ ፤ ታ ፆኦዛሢዮ !</td>\n",
              "      <td>mdy</td>\n",
              "      <td>100.00</td>\n",
              "      <td>Maale</td>\n",
              "      <td>Ethiopic</td>\n",
              "    </tr>\n",
              "    <tr>\n",
              "      <th>12</th>\n",
              "      <td>tir</td>\n",
              "      <td>ዮሃንስ ኣብ ኢድ እቲ ብርቱዕ መልኣኽ እንታይ ይርኢ ፧ 5 ዮሃንስ ተወሳኺ...</td>\n",
              "      <td>tir</td>\n",
              "      <td>100.00</td>\n",
              "      <td>Tigrinya</td>\n",
              "      <td>Ethiopic</td>\n",
              "    </tr>\n",
              "    <tr>\n",
              "      <th>13</th>\n",
              "      <td>kmy</td>\n",
              "      <td>37Ama vuodieke nɩŋ mana n Chʋa Ŋmɩŋ dɩ nagɩna ...</td>\n",
              "      <td>kma</td>\n",
              "      <td>69.53</td>\n",
              "      <td>Konni</td>\n",
              "      <td>Latin</td>\n",
              "    </tr>\n",
              "    <tr>\n",
              "      <th>14</th>\n",
              "      <td>mfz</td>\n",
              "      <td>5Yecu tocɛ ma ti : Am kicra ballɛ yɛke ti aŋɛ ...</td>\n",
              "      <td>mfz</td>\n",
              "      <td>98.44</td>\n",
              "      <td>Mabaan</td>\n",
              "      <td>Latin</td>\n",
              "    </tr>\n",
              "    <tr>\n",
              "      <th>15</th>\n",
              "      <td>orm</td>\n",
              "      <td>୨୩ % ଲୋକ ସେଠାରେ ୬ ବର୍ଷ ବୟସରୁ କମ ବୟସ୍କ ଅଟନ୍ତି ।...</td>\n",
              "      <td>orm</td>\n",
              "      <td>100.00</td>\n",
              "      <td>Oromo</td>\n",
              "      <td>Ethiopic / Latin</td>\n",
              "    </tr>\n",
              "    <tr>\n",
              "      <th>16</th>\n",
              "      <td>vut</td>\n",
              "      <td>28Ɓwâ nɨ̀kwííb kwá səəmcuhó̧ré , ŋgə́ ma kwá ...</td>\n",
              "      <td>vut</td>\n",
              "      <td>100.00</td>\n",
              "      <td>Vute</td>\n",
              "      <td>Latin</td>\n",
              "    </tr>\n",
              "    <tr>\n",
              "      <th>17</th>\n",
              "      <td>amh</td>\n",
              "      <td>ከ ሀ እከ ፖ የኮሜዲያን ቶማስ እና ናቲ ኮሜዲ ድራማ እና 50 አለቃ ገብ...</td>\n",
              "      <td>amh</td>\n",
              "      <td>93.10</td>\n",
              "      <td>Amharic</td>\n",
              "      <td>Ethiopic</td>\n",
              "    </tr>\n",
              "    <tr>\n",
              "      <th>18</th>\n",
              "      <td>xan</td>\n",
              "      <td>ዩ ። 17እኒንት ዊግታንድም ጝት ተቃውምሽጛ ዊነቍድቅ ኣይቭት ፤ ኽዝቭድ ...</td>\n",
              "      <td>xan</td>\n",
              "      <td>100.00</td>\n",
              "      <td>Xamtanga</td>\n",
              "      <td>Ethiopic</td>\n",
              "    </tr>\n",
              "    <tr>\n",
              "      <th>19</th>\n",
              "      <td>yor</td>\n",
              "      <td>Ó lè gé igi kedari lulẹ̀ , tabi kí ó gbin igi ...</td>\n",
              "      <td>yor</td>\n",
              "      <td>100.00</td>\n",
              "      <td>Yoruba</td>\n",
              "      <td>Latin</td>\n",
              "    </tr>\n",
              "    <tr>\n",
              "      <th>20</th>\n",
              "      <td>rif</td>\n",
              "      <td>أوشا يبد ارايس ن ڒفقها ينا-ٱس إ عيسى : ما وار ...</td>\n",
              "      <td>rif</td>\n",
              "      <td>100.00</td>\n",
              "      <td>Tarifit</td>\n",
              "      <td>Arabic</td>\n",
              "    </tr>\n",
              "  </tbody>\n",
              "</table>\n",
              "</div>\n",
              "      <button class=\"colab-df-convert\" onclick=\"convertToInteractive('df-9e1509f5-5d0f-4d5a-b4ba-32b9185e4968')\"\n",
              "              title=\"Convert this dataframe to an interactive table.\"\n",
              "              style=\"display:none;\">\n",
              "        \n",
              "  <svg xmlns=\"http://www.w3.org/2000/svg\" height=\"24px\"viewBox=\"0 0 24 24\"\n",
              "       width=\"24px\">\n",
              "    <path d=\"M0 0h24v24H0V0z\" fill=\"none\"/>\n",
              "    <path d=\"M18.56 5.44l.94 2.06.94-2.06 2.06-.94-2.06-.94-.94-2.06-.94 2.06-2.06.94zm-11 1L8.5 8.5l.94-2.06 2.06-.94-2.06-.94L8.5 2.5l-.94 2.06-2.06.94zm10 10l.94 2.06.94-2.06 2.06-.94-2.06-.94-.94-2.06-.94 2.06-2.06.94z\"/><path d=\"M17.41 7.96l-1.37-1.37c-.4-.4-.92-.59-1.43-.59-.52 0-1.04.2-1.43.59L10.3 9.45l-7.72 7.72c-.78.78-.78 2.05 0 2.83L4 21.41c.39.39.9.59 1.41.59.51 0 1.02-.2 1.41-.59l7.78-7.78 2.81-2.81c.8-.78.8-2.07 0-2.86zM5.41 20L4 18.59l7.72-7.72 1.47 1.35L5.41 20z\"/>\n",
              "  </svg>\n",
              "      </button>\n",
              "      \n",
              "  <style>\n",
              "    .colab-df-container {\n",
              "      display:flex;\n",
              "      flex-wrap:wrap;\n",
              "      gap: 12px;\n",
              "    }\n",
              "\n",
              "    .colab-df-convert {\n",
              "      background-color: #E8F0FE;\n",
              "      border: none;\n",
              "      border-radius: 50%;\n",
              "      cursor: pointer;\n",
              "      display: none;\n",
              "      fill: #1967D2;\n",
              "      height: 32px;\n",
              "      padding: 0 0 0 0;\n",
              "      width: 32px;\n",
              "    }\n",
              "\n",
              "    .colab-df-convert:hover {\n",
              "      background-color: #E2EBFA;\n",
              "      box-shadow: 0px 1px 2px rgba(60, 64, 67, 0.3), 0px 1px 3px 1px rgba(60, 64, 67, 0.15);\n",
              "      fill: #174EA6;\n",
              "    }\n",
              "\n",
              "    [theme=dark] .colab-df-convert {\n",
              "      background-color: #3B4455;\n",
              "      fill: #D2E3FC;\n",
              "    }\n",
              "\n",
              "    [theme=dark] .colab-df-convert:hover {\n",
              "      background-color: #434B5C;\n",
              "      box-shadow: 0px 1px 3px 1px rgba(0, 0, 0, 0.15);\n",
              "      filter: drop-shadow(0px 1px 2px rgba(0, 0, 0, 0.3));\n",
              "      fill: #FFFFFF;\n",
              "    }\n",
              "  </style>\n",
              "\n",
              "      <script>\n",
              "        const buttonEl =\n",
              "          document.querySelector('#df-9e1509f5-5d0f-4d5a-b4ba-32b9185e4968 button.colab-df-convert');\n",
              "        buttonEl.style.display =\n",
              "          google.colab.kernel.accessAllowed ? 'block' : 'none';\n",
              "\n",
              "        async function convertToInteractive(key) {\n",
              "          const element = document.querySelector('#df-9e1509f5-5d0f-4d5a-b4ba-32b9185e4968');\n",
              "          const dataTable =\n",
              "            await google.colab.kernel.invokeFunction('convertToInteractive',\n",
              "                                                     [key], {});\n",
              "          if (!dataTable) return;\n",
              "\n",
              "          const docLinkHtml = 'Like what you see? Visit the ' +\n",
              "            '<a target=\"_blank\" href=https://colab.research.google.com/notebooks/data_table.ipynb>data table notebook</a>'\n",
              "            + ' to learn more about interactive tables.';\n",
              "          element.innerHTML = '';\n",
              "          dataTable['output_type'] = 'display_data';\n",
              "          await google.colab.output.renderOutput(dataTable, element);\n",
              "          const docLink = document.createElement('div');\n",
              "          docLink.innerHTML = docLinkHtml;\n",
              "          element.appendChild(docLink);\n",
              "        }\n",
              "      </script>\n",
              "    </div>\n",
              "  </div>\n",
              "  "
            ]
          },
          "metadata": {},
          "execution_count": 49
        }
      ],
      "source": [
        "df['predict_iso'], df['predict_score'], df['predict_name'], df['predict_script'] = zip(*df['content'].progress_apply(get_afrolid_prediction))\n",
        "df"
      ]
    },
    {
      "cell_type": "code",
      "execution_count": null,
      "metadata": {
        "id": "UZks8EnElsFj"
      },
      "outputs": [],
      "source": []
    }
  ],
  "metadata": {
    "colab": {
      "provenance": []
    },
    "kernelspec": {
      "display_name": "Python 3",
      "name": "python3"
    },
    "language_info": {
      "name": "python"
    },
    "gpuClass": "standard"
  },
  "nbformat": 4,
  "nbformat_minor": 0
}